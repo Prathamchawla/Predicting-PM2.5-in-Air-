{
 "cells": [
  {
   "cell_type": "code",
   "execution_count": 1,
   "id": "cd63947c",
   "metadata": {},
   "outputs": [],
   "source": [
    "import pandas as pd\n",
    "import numpy as np\n",
    "import matplotlib.pyplot as plt \n",
    "import seaborn as sns"
   ]
  },
  {
   "cell_type": "code",
   "execution_count": 2,
   "id": "24d1417f",
   "metadata": {},
   "outputs": [],
   "source": [
    "df = pd.read_csv(\"D:\\dataset\\PRSA_data_2010.1.1-2014.12.31.csv\")"
   ]
  },
  {
   "cell_type": "code",
   "execution_count": 3,
   "id": "25849bab",
   "metadata": {},
   "outputs": [
    {
     "data": {
      "text/html": [
       "<div>\n",
       "<style scoped>\n",
       "    .dataframe tbody tr th:only-of-type {\n",
       "        vertical-align: middle;\n",
       "    }\n",
       "\n",
       "    .dataframe tbody tr th {\n",
       "        vertical-align: top;\n",
       "    }\n",
       "\n",
       "    .dataframe thead th {\n",
       "        text-align: right;\n",
       "    }\n",
       "</style>\n",
       "<table border=\"1\" class=\"dataframe\">\n",
       "  <thead>\n",
       "    <tr style=\"text-align: right;\">\n",
       "      <th></th>\n",
       "      <th>No</th>\n",
       "      <th>year</th>\n",
       "      <th>month</th>\n",
       "      <th>day</th>\n",
       "      <th>hour</th>\n",
       "      <th>pm2.5</th>\n",
       "      <th>DEWP</th>\n",
       "      <th>TEMP</th>\n",
       "      <th>PRES</th>\n",
       "      <th>cbwd</th>\n",
       "      <th>Iws</th>\n",
       "      <th>Is</th>\n",
       "      <th>Ir</th>\n",
       "    </tr>\n",
       "  </thead>\n",
       "  <tbody>\n",
       "    <tr>\n",
       "      <th>0</th>\n",
       "      <td>1</td>\n",
       "      <td>2010</td>\n",
       "      <td>1</td>\n",
       "      <td>1</td>\n",
       "      <td>0</td>\n",
       "      <td>NaN</td>\n",
       "      <td>-21</td>\n",
       "      <td>-11.0</td>\n",
       "      <td>1021.0</td>\n",
       "      <td>NW</td>\n",
       "      <td>1.79</td>\n",
       "      <td>0</td>\n",
       "      <td>0</td>\n",
       "    </tr>\n",
       "    <tr>\n",
       "      <th>1</th>\n",
       "      <td>2</td>\n",
       "      <td>2010</td>\n",
       "      <td>1</td>\n",
       "      <td>1</td>\n",
       "      <td>1</td>\n",
       "      <td>NaN</td>\n",
       "      <td>-21</td>\n",
       "      <td>-12.0</td>\n",
       "      <td>1020.0</td>\n",
       "      <td>NW</td>\n",
       "      <td>4.92</td>\n",
       "      <td>0</td>\n",
       "      <td>0</td>\n",
       "    </tr>\n",
       "    <tr>\n",
       "      <th>2</th>\n",
       "      <td>3</td>\n",
       "      <td>2010</td>\n",
       "      <td>1</td>\n",
       "      <td>1</td>\n",
       "      <td>2</td>\n",
       "      <td>NaN</td>\n",
       "      <td>-21</td>\n",
       "      <td>-11.0</td>\n",
       "      <td>1019.0</td>\n",
       "      <td>NW</td>\n",
       "      <td>6.71</td>\n",
       "      <td>0</td>\n",
       "      <td>0</td>\n",
       "    </tr>\n",
       "    <tr>\n",
       "      <th>3</th>\n",
       "      <td>4</td>\n",
       "      <td>2010</td>\n",
       "      <td>1</td>\n",
       "      <td>1</td>\n",
       "      <td>3</td>\n",
       "      <td>NaN</td>\n",
       "      <td>-21</td>\n",
       "      <td>-14.0</td>\n",
       "      <td>1019.0</td>\n",
       "      <td>NW</td>\n",
       "      <td>9.84</td>\n",
       "      <td>0</td>\n",
       "      <td>0</td>\n",
       "    </tr>\n",
       "    <tr>\n",
       "      <th>4</th>\n",
       "      <td>5</td>\n",
       "      <td>2010</td>\n",
       "      <td>1</td>\n",
       "      <td>1</td>\n",
       "      <td>4</td>\n",
       "      <td>NaN</td>\n",
       "      <td>-20</td>\n",
       "      <td>-12.0</td>\n",
       "      <td>1018.0</td>\n",
       "      <td>NW</td>\n",
       "      <td>12.97</td>\n",
       "      <td>0</td>\n",
       "      <td>0</td>\n",
       "    </tr>\n",
       "    <tr>\n",
       "      <th>...</th>\n",
       "      <td>...</td>\n",
       "      <td>...</td>\n",
       "      <td>...</td>\n",
       "      <td>...</td>\n",
       "      <td>...</td>\n",
       "      <td>...</td>\n",
       "      <td>...</td>\n",
       "      <td>...</td>\n",
       "      <td>...</td>\n",
       "      <td>...</td>\n",
       "      <td>...</td>\n",
       "      <td>...</td>\n",
       "      <td>...</td>\n",
       "    </tr>\n",
       "    <tr>\n",
       "      <th>43819</th>\n",
       "      <td>43820</td>\n",
       "      <td>2014</td>\n",
       "      <td>12</td>\n",
       "      <td>31</td>\n",
       "      <td>19</td>\n",
       "      <td>8.0</td>\n",
       "      <td>-23</td>\n",
       "      <td>-2.0</td>\n",
       "      <td>1034.0</td>\n",
       "      <td>NW</td>\n",
       "      <td>231.97</td>\n",
       "      <td>0</td>\n",
       "      <td>0</td>\n",
       "    </tr>\n",
       "    <tr>\n",
       "      <th>43820</th>\n",
       "      <td>43821</td>\n",
       "      <td>2014</td>\n",
       "      <td>12</td>\n",
       "      <td>31</td>\n",
       "      <td>20</td>\n",
       "      <td>10.0</td>\n",
       "      <td>-22</td>\n",
       "      <td>-3.0</td>\n",
       "      <td>1034.0</td>\n",
       "      <td>NW</td>\n",
       "      <td>237.78</td>\n",
       "      <td>0</td>\n",
       "      <td>0</td>\n",
       "    </tr>\n",
       "    <tr>\n",
       "      <th>43821</th>\n",
       "      <td>43822</td>\n",
       "      <td>2014</td>\n",
       "      <td>12</td>\n",
       "      <td>31</td>\n",
       "      <td>21</td>\n",
       "      <td>10.0</td>\n",
       "      <td>-22</td>\n",
       "      <td>-3.0</td>\n",
       "      <td>1034.0</td>\n",
       "      <td>NW</td>\n",
       "      <td>242.70</td>\n",
       "      <td>0</td>\n",
       "      <td>0</td>\n",
       "    </tr>\n",
       "    <tr>\n",
       "      <th>43822</th>\n",
       "      <td>43823</td>\n",
       "      <td>2014</td>\n",
       "      <td>12</td>\n",
       "      <td>31</td>\n",
       "      <td>22</td>\n",
       "      <td>8.0</td>\n",
       "      <td>-22</td>\n",
       "      <td>-4.0</td>\n",
       "      <td>1034.0</td>\n",
       "      <td>NW</td>\n",
       "      <td>246.72</td>\n",
       "      <td>0</td>\n",
       "      <td>0</td>\n",
       "    </tr>\n",
       "    <tr>\n",
       "      <th>43823</th>\n",
       "      <td>43824</td>\n",
       "      <td>2014</td>\n",
       "      <td>12</td>\n",
       "      <td>31</td>\n",
       "      <td>23</td>\n",
       "      <td>12.0</td>\n",
       "      <td>-21</td>\n",
       "      <td>-3.0</td>\n",
       "      <td>1034.0</td>\n",
       "      <td>NW</td>\n",
       "      <td>249.85</td>\n",
       "      <td>0</td>\n",
       "      <td>0</td>\n",
       "    </tr>\n",
       "  </tbody>\n",
       "</table>\n",
       "<p>43824 rows × 13 columns</p>\n",
       "</div>"
      ],
      "text/plain": [
       "          No  year  month  day  hour  pm2.5  DEWP  TEMP    PRES cbwd     Iws  \\\n",
       "0          1  2010      1    1     0    NaN   -21 -11.0  1021.0   NW    1.79   \n",
       "1          2  2010      1    1     1    NaN   -21 -12.0  1020.0   NW    4.92   \n",
       "2          3  2010      1    1     2    NaN   -21 -11.0  1019.0   NW    6.71   \n",
       "3          4  2010      1    1     3    NaN   -21 -14.0  1019.0   NW    9.84   \n",
       "4          5  2010      1    1     4    NaN   -20 -12.0  1018.0   NW   12.97   \n",
       "...      ...   ...    ...  ...   ...    ...   ...   ...     ...  ...     ...   \n",
       "43819  43820  2014     12   31    19    8.0   -23  -2.0  1034.0   NW  231.97   \n",
       "43820  43821  2014     12   31    20   10.0   -22  -3.0  1034.0   NW  237.78   \n",
       "43821  43822  2014     12   31    21   10.0   -22  -3.0  1034.0   NW  242.70   \n",
       "43822  43823  2014     12   31    22    8.0   -22  -4.0  1034.0   NW  246.72   \n",
       "43823  43824  2014     12   31    23   12.0   -21  -3.0  1034.0   NW  249.85   \n",
       "\n",
       "       Is  Ir  \n",
       "0       0   0  \n",
       "1       0   0  \n",
       "2       0   0  \n",
       "3       0   0  \n",
       "4       0   0  \n",
       "...    ..  ..  \n",
       "43819   0   0  \n",
       "43820   0   0  \n",
       "43821   0   0  \n",
       "43822   0   0  \n",
       "43823   0   0  \n",
       "\n",
       "[43824 rows x 13 columns]"
      ]
     },
     "execution_count": 3,
     "metadata": {},
     "output_type": "execute_result"
    }
   ],
   "source": [
    "df"
   ]
  },
  {
   "cell_type": "code",
   "execution_count": 4,
   "id": "31b500c7",
   "metadata": {
    "scrolled": true
   },
   "outputs": [
    {
     "name": "stdout",
     "output_type": "stream",
     "text": [
      "<class 'pandas.core.frame.DataFrame'>\n",
      "RangeIndex: 43824 entries, 0 to 43823\n",
      "Data columns (total 13 columns):\n",
      " #   Column  Non-Null Count  Dtype  \n",
      "---  ------  --------------  -----  \n",
      " 0   No      43824 non-null  int64  \n",
      " 1   year    43824 non-null  int64  \n",
      " 2   month   43824 non-null  int64  \n",
      " 3   day     43824 non-null  int64  \n",
      " 4   hour    43824 non-null  int64  \n",
      " 5   pm2.5   41757 non-null  float64\n",
      " 6   DEWP    43824 non-null  int64  \n",
      " 7   TEMP    43824 non-null  float64\n",
      " 8   PRES    43824 non-null  float64\n",
      " 9   cbwd    43824 non-null  object \n",
      " 10  Iws     43824 non-null  float64\n",
      " 11  Is      43824 non-null  int64  \n",
      " 12  Ir      43824 non-null  int64  \n",
      "dtypes: float64(4), int64(8), object(1)\n",
      "memory usage: 4.3+ MB\n"
     ]
    }
   ],
   "source": [
    "df.info()"
   ]
  },
  {
   "cell_type": "code",
   "execution_count": 5,
   "id": "2c854b46",
   "metadata": {},
   "outputs": [
    {
     "data": {
      "text/plain": [
       "No          0\n",
       "year        0\n",
       "month       0\n",
       "day         0\n",
       "hour        0\n",
       "pm2.5    2067\n",
       "DEWP        0\n",
       "TEMP        0\n",
       "PRES        0\n",
       "cbwd        0\n",
       "Iws         0\n",
       "Is          0\n",
       "Ir          0\n",
       "dtype: int64"
      ]
     },
     "execution_count": 5,
     "metadata": {},
     "output_type": "execute_result"
    }
   ],
   "source": [
    "df.isnull().sum()"
   ]
  },
  {
   "cell_type": "code",
   "execution_count": 6,
   "id": "96d8349f",
   "metadata": {},
   "outputs": [],
   "source": [
    "# we have 43000 plus data so we can drop the null values rather than filling them\n",
    "df.dropna(inplace=True)"
   ]
  },
  {
   "cell_type": "code",
   "execution_count": 7,
   "id": "dc0f1e1d",
   "metadata": {},
   "outputs": [],
   "source": [
    "df.reset_index(inplace=True)"
   ]
  },
  {
   "cell_type": "code",
   "execution_count": 8,
   "id": "316fadd8",
   "metadata": {},
   "outputs": [
    {
     "data": {
      "text/html": [
       "<div>\n",
       "<style scoped>\n",
       "    .dataframe tbody tr th:only-of-type {\n",
       "        vertical-align: middle;\n",
       "    }\n",
       "\n",
       "    .dataframe tbody tr th {\n",
       "        vertical-align: top;\n",
       "    }\n",
       "\n",
       "    .dataframe thead th {\n",
       "        text-align: right;\n",
       "    }\n",
       "</style>\n",
       "<table border=\"1\" class=\"dataframe\">\n",
       "  <thead>\n",
       "    <tr style=\"text-align: right;\">\n",
       "      <th></th>\n",
       "      <th>index</th>\n",
       "      <th>No</th>\n",
       "      <th>year</th>\n",
       "      <th>month</th>\n",
       "      <th>day</th>\n",
       "      <th>hour</th>\n",
       "      <th>pm2.5</th>\n",
       "      <th>DEWP</th>\n",
       "      <th>TEMP</th>\n",
       "      <th>PRES</th>\n",
       "      <th>cbwd</th>\n",
       "      <th>Iws</th>\n",
       "      <th>Is</th>\n",
       "      <th>Ir</th>\n",
       "    </tr>\n",
       "  </thead>\n",
       "  <tbody>\n",
       "    <tr>\n",
       "      <th>0</th>\n",
       "      <td>24</td>\n",
       "      <td>25</td>\n",
       "      <td>2010</td>\n",
       "      <td>1</td>\n",
       "      <td>2</td>\n",
       "      <td>0</td>\n",
       "      <td>129.0</td>\n",
       "      <td>-16</td>\n",
       "      <td>-4.0</td>\n",
       "      <td>1020.0</td>\n",
       "      <td>SE</td>\n",
       "      <td>1.79</td>\n",
       "      <td>0</td>\n",
       "      <td>0</td>\n",
       "    </tr>\n",
       "    <tr>\n",
       "      <th>1</th>\n",
       "      <td>25</td>\n",
       "      <td>26</td>\n",
       "      <td>2010</td>\n",
       "      <td>1</td>\n",
       "      <td>2</td>\n",
       "      <td>1</td>\n",
       "      <td>148.0</td>\n",
       "      <td>-15</td>\n",
       "      <td>-4.0</td>\n",
       "      <td>1020.0</td>\n",
       "      <td>SE</td>\n",
       "      <td>2.68</td>\n",
       "      <td>0</td>\n",
       "      <td>0</td>\n",
       "    </tr>\n",
       "    <tr>\n",
       "      <th>2</th>\n",
       "      <td>26</td>\n",
       "      <td>27</td>\n",
       "      <td>2010</td>\n",
       "      <td>1</td>\n",
       "      <td>2</td>\n",
       "      <td>2</td>\n",
       "      <td>159.0</td>\n",
       "      <td>-11</td>\n",
       "      <td>-5.0</td>\n",
       "      <td>1021.0</td>\n",
       "      <td>SE</td>\n",
       "      <td>3.57</td>\n",
       "      <td>0</td>\n",
       "      <td>0</td>\n",
       "    </tr>\n",
       "    <tr>\n",
       "      <th>3</th>\n",
       "      <td>27</td>\n",
       "      <td>28</td>\n",
       "      <td>2010</td>\n",
       "      <td>1</td>\n",
       "      <td>2</td>\n",
       "      <td>3</td>\n",
       "      <td>181.0</td>\n",
       "      <td>-7</td>\n",
       "      <td>-5.0</td>\n",
       "      <td>1022.0</td>\n",
       "      <td>SE</td>\n",
       "      <td>5.36</td>\n",
       "      <td>1</td>\n",
       "      <td>0</td>\n",
       "    </tr>\n",
       "    <tr>\n",
       "      <th>4</th>\n",
       "      <td>28</td>\n",
       "      <td>29</td>\n",
       "      <td>2010</td>\n",
       "      <td>1</td>\n",
       "      <td>2</td>\n",
       "      <td>4</td>\n",
       "      <td>138.0</td>\n",
       "      <td>-7</td>\n",
       "      <td>-5.0</td>\n",
       "      <td>1022.0</td>\n",
       "      <td>SE</td>\n",
       "      <td>6.25</td>\n",
       "      <td>2</td>\n",
       "      <td>0</td>\n",
       "    </tr>\n",
       "    <tr>\n",
       "      <th>...</th>\n",
       "      <td>...</td>\n",
       "      <td>...</td>\n",
       "      <td>...</td>\n",
       "      <td>...</td>\n",
       "      <td>...</td>\n",
       "      <td>...</td>\n",
       "      <td>...</td>\n",
       "      <td>...</td>\n",
       "      <td>...</td>\n",
       "      <td>...</td>\n",
       "      <td>...</td>\n",
       "      <td>...</td>\n",
       "      <td>...</td>\n",
       "      <td>...</td>\n",
       "    </tr>\n",
       "    <tr>\n",
       "      <th>41752</th>\n",
       "      <td>43819</td>\n",
       "      <td>43820</td>\n",
       "      <td>2014</td>\n",
       "      <td>12</td>\n",
       "      <td>31</td>\n",
       "      <td>19</td>\n",
       "      <td>8.0</td>\n",
       "      <td>-23</td>\n",
       "      <td>-2.0</td>\n",
       "      <td>1034.0</td>\n",
       "      <td>NW</td>\n",
       "      <td>231.97</td>\n",
       "      <td>0</td>\n",
       "      <td>0</td>\n",
       "    </tr>\n",
       "    <tr>\n",
       "      <th>41753</th>\n",
       "      <td>43820</td>\n",
       "      <td>43821</td>\n",
       "      <td>2014</td>\n",
       "      <td>12</td>\n",
       "      <td>31</td>\n",
       "      <td>20</td>\n",
       "      <td>10.0</td>\n",
       "      <td>-22</td>\n",
       "      <td>-3.0</td>\n",
       "      <td>1034.0</td>\n",
       "      <td>NW</td>\n",
       "      <td>237.78</td>\n",
       "      <td>0</td>\n",
       "      <td>0</td>\n",
       "    </tr>\n",
       "    <tr>\n",
       "      <th>41754</th>\n",
       "      <td>43821</td>\n",
       "      <td>43822</td>\n",
       "      <td>2014</td>\n",
       "      <td>12</td>\n",
       "      <td>31</td>\n",
       "      <td>21</td>\n",
       "      <td>10.0</td>\n",
       "      <td>-22</td>\n",
       "      <td>-3.0</td>\n",
       "      <td>1034.0</td>\n",
       "      <td>NW</td>\n",
       "      <td>242.70</td>\n",
       "      <td>0</td>\n",
       "      <td>0</td>\n",
       "    </tr>\n",
       "    <tr>\n",
       "      <th>41755</th>\n",
       "      <td>43822</td>\n",
       "      <td>43823</td>\n",
       "      <td>2014</td>\n",
       "      <td>12</td>\n",
       "      <td>31</td>\n",
       "      <td>22</td>\n",
       "      <td>8.0</td>\n",
       "      <td>-22</td>\n",
       "      <td>-4.0</td>\n",
       "      <td>1034.0</td>\n",
       "      <td>NW</td>\n",
       "      <td>246.72</td>\n",
       "      <td>0</td>\n",
       "      <td>0</td>\n",
       "    </tr>\n",
       "    <tr>\n",
       "      <th>41756</th>\n",
       "      <td>43823</td>\n",
       "      <td>43824</td>\n",
       "      <td>2014</td>\n",
       "      <td>12</td>\n",
       "      <td>31</td>\n",
       "      <td>23</td>\n",
       "      <td>12.0</td>\n",
       "      <td>-21</td>\n",
       "      <td>-3.0</td>\n",
       "      <td>1034.0</td>\n",
       "      <td>NW</td>\n",
       "      <td>249.85</td>\n",
       "      <td>0</td>\n",
       "      <td>0</td>\n",
       "    </tr>\n",
       "  </tbody>\n",
       "</table>\n",
       "<p>41757 rows × 14 columns</p>\n",
       "</div>"
      ],
      "text/plain": [
       "       index     No  year  month  day  hour  pm2.5  DEWP  TEMP    PRES cbwd  \\\n",
       "0         24     25  2010      1    2     0  129.0   -16  -4.0  1020.0   SE   \n",
       "1         25     26  2010      1    2     1  148.0   -15  -4.0  1020.0   SE   \n",
       "2         26     27  2010      1    2     2  159.0   -11  -5.0  1021.0   SE   \n",
       "3         27     28  2010      1    2     3  181.0    -7  -5.0  1022.0   SE   \n",
       "4         28     29  2010      1    2     4  138.0    -7  -5.0  1022.0   SE   \n",
       "...      ...    ...   ...    ...  ...   ...    ...   ...   ...     ...  ...   \n",
       "41752  43819  43820  2014     12   31    19    8.0   -23  -2.0  1034.0   NW   \n",
       "41753  43820  43821  2014     12   31    20   10.0   -22  -3.0  1034.0   NW   \n",
       "41754  43821  43822  2014     12   31    21   10.0   -22  -3.0  1034.0   NW   \n",
       "41755  43822  43823  2014     12   31    22    8.0   -22  -4.0  1034.0   NW   \n",
       "41756  43823  43824  2014     12   31    23   12.0   -21  -3.0  1034.0   NW   \n",
       "\n",
       "          Iws  Is  Ir  \n",
       "0        1.79   0   0  \n",
       "1        2.68   0   0  \n",
       "2        3.57   0   0  \n",
       "3        5.36   1   0  \n",
       "4        6.25   2   0  \n",
       "...       ...  ..  ..  \n",
       "41752  231.97   0   0  \n",
       "41753  237.78   0   0  \n",
       "41754  242.70   0   0  \n",
       "41755  246.72   0   0  \n",
       "41756  249.85   0   0  \n",
       "\n",
       "[41757 rows x 14 columns]"
      ]
     },
     "execution_count": 8,
     "metadata": {},
     "output_type": "execute_result"
    }
   ],
   "source": [
    "df"
   ]
  },
  {
   "cell_type": "code",
   "execution_count": 9,
   "id": "c0df3479",
   "metadata": {},
   "outputs": [],
   "source": [
    "df_copy = df.drop(['index','No','year','month','day','hour','Is','Ir'],axis=1)"
   ]
  },
  {
   "cell_type": "code",
   "execution_count": 10,
   "id": "c2d8bd74",
   "metadata": {},
   "outputs": [
    {
     "data": {
      "text/html": [
       "<div>\n",
       "<style scoped>\n",
       "    .dataframe tbody tr th:only-of-type {\n",
       "        vertical-align: middle;\n",
       "    }\n",
       "\n",
       "    .dataframe tbody tr th {\n",
       "        vertical-align: top;\n",
       "    }\n",
       "\n",
       "    .dataframe thead th {\n",
       "        text-align: right;\n",
       "    }\n",
       "</style>\n",
       "<table border=\"1\" class=\"dataframe\">\n",
       "  <thead>\n",
       "    <tr style=\"text-align: right;\">\n",
       "      <th></th>\n",
       "      <th>pm2.5</th>\n",
       "      <th>DEWP</th>\n",
       "      <th>TEMP</th>\n",
       "      <th>PRES</th>\n",
       "      <th>cbwd</th>\n",
       "      <th>Iws</th>\n",
       "    </tr>\n",
       "  </thead>\n",
       "  <tbody>\n",
       "    <tr>\n",
       "      <th>0</th>\n",
       "      <td>129.0</td>\n",
       "      <td>-16</td>\n",
       "      <td>-4.0</td>\n",
       "      <td>1020.0</td>\n",
       "      <td>SE</td>\n",
       "      <td>1.79</td>\n",
       "    </tr>\n",
       "    <tr>\n",
       "      <th>1</th>\n",
       "      <td>148.0</td>\n",
       "      <td>-15</td>\n",
       "      <td>-4.0</td>\n",
       "      <td>1020.0</td>\n",
       "      <td>SE</td>\n",
       "      <td>2.68</td>\n",
       "    </tr>\n",
       "    <tr>\n",
       "      <th>2</th>\n",
       "      <td>159.0</td>\n",
       "      <td>-11</td>\n",
       "      <td>-5.0</td>\n",
       "      <td>1021.0</td>\n",
       "      <td>SE</td>\n",
       "      <td>3.57</td>\n",
       "    </tr>\n",
       "    <tr>\n",
       "      <th>3</th>\n",
       "      <td>181.0</td>\n",
       "      <td>-7</td>\n",
       "      <td>-5.0</td>\n",
       "      <td>1022.0</td>\n",
       "      <td>SE</td>\n",
       "      <td>5.36</td>\n",
       "    </tr>\n",
       "    <tr>\n",
       "      <th>4</th>\n",
       "      <td>138.0</td>\n",
       "      <td>-7</td>\n",
       "      <td>-5.0</td>\n",
       "      <td>1022.0</td>\n",
       "      <td>SE</td>\n",
       "      <td>6.25</td>\n",
       "    </tr>\n",
       "    <tr>\n",
       "      <th>...</th>\n",
       "      <td>...</td>\n",
       "      <td>...</td>\n",
       "      <td>...</td>\n",
       "      <td>...</td>\n",
       "      <td>...</td>\n",
       "      <td>...</td>\n",
       "    </tr>\n",
       "    <tr>\n",
       "      <th>41752</th>\n",
       "      <td>8.0</td>\n",
       "      <td>-23</td>\n",
       "      <td>-2.0</td>\n",
       "      <td>1034.0</td>\n",
       "      <td>NW</td>\n",
       "      <td>231.97</td>\n",
       "    </tr>\n",
       "    <tr>\n",
       "      <th>41753</th>\n",
       "      <td>10.0</td>\n",
       "      <td>-22</td>\n",
       "      <td>-3.0</td>\n",
       "      <td>1034.0</td>\n",
       "      <td>NW</td>\n",
       "      <td>237.78</td>\n",
       "    </tr>\n",
       "    <tr>\n",
       "      <th>41754</th>\n",
       "      <td>10.0</td>\n",
       "      <td>-22</td>\n",
       "      <td>-3.0</td>\n",
       "      <td>1034.0</td>\n",
       "      <td>NW</td>\n",
       "      <td>242.70</td>\n",
       "    </tr>\n",
       "    <tr>\n",
       "      <th>41755</th>\n",
       "      <td>8.0</td>\n",
       "      <td>-22</td>\n",
       "      <td>-4.0</td>\n",
       "      <td>1034.0</td>\n",
       "      <td>NW</td>\n",
       "      <td>246.72</td>\n",
       "    </tr>\n",
       "    <tr>\n",
       "      <th>41756</th>\n",
       "      <td>12.0</td>\n",
       "      <td>-21</td>\n",
       "      <td>-3.0</td>\n",
       "      <td>1034.0</td>\n",
       "      <td>NW</td>\n",
       "      <td>249.85</td>\n",
       "    </tr>\n",
       "  </tbody>\n",
       "</table>\n",
       "<p>41757 rows × 6 columns</p>\n",
       "</div>"
      ],
      "text/plain": [
       "       pm2.5  DEWP  TEMP    PRES cbwd     Iws\n",
       "0      129.0   -16  -4.0  1020.0   SE    1.79\n",
       "1      148.0   -15  -4.0  1020.0   SE    2.68\n",
       "2      159.0   -11  -5.0  1021.0   SE    3.57\n",
       "3      181.0    -7  -5.0  1022.0   SE    5.36\n",
       "4      138.0    -7  -5.0  1022.0   SE    6.25\n",
       "...      ...   ...   ...     ...  ...     ...\n",
       "41752    8.0   -23  -2.0  1034.0   NW  231.97\n",
       "41753   10.0   -22  -3.0  1034.0   NW  237.78\n",
       "41754   10.0   -22  -3.0  1034.0   NW  242.70\n",
       "41755    8.0   -22  -4.0  1034.0   NW  246.72\n",
       "41756   12.0   -21  -3.0  1034.0   NW  249.85\n",
       "\n",
       "[41757 rows x 6 columns]"
      ]
     },
     "execution_count": 10,
     "metadata": {},
     "output_type": "execute_result"
    }
   ],
   "source": [
    "df_copy"
   ]
  },
  {
   "cell_type": "code",
   "execution_count": 11,
   "id": "e3b281d2",
   "metadata": {},
   "outputs": [
    {
     "data": {
      "text/plain": [
       "SE    14573\n",
       "NW    13484\n",
       "cv     8944\n",
       "NE     4756\n",
       "Name: cbwd, dtype: int64"
      ]
     },
     "execution_count": 11,
     "metadata": {},
     "output_type": "execute_result"
    }
   ],
   "source": [
    "df_copy['cbwd'].value_counts()"
   ]
  },
  {
   "cell_type": "code",
   "execution_count": 12,
   "id": "30d4add0",
   "metadata": {},
   "outputs": [],
   "source": [
    "from sklearn.preprocessing import LabelEncoder\n",
    "encoder = LabelEncoder()"
   ]
  },
  {
   "cell_type": "code",
   "execution_count": 13,
   "id": "6978ea34",
   "metadata": {},
   "outputs": [],
   "source": [
    "df_copy['cbwd'] = encoder.fit_transform(df_copy['cbwd'])"
   ]
  },
  {
   "cell_type": "code",
   "execution_count": 14,
   "id": "4e0cc98e",
   "metadata": {},
   "outputs": [
    {
     "data": {
      "text/html": [
       "<div>\n",
       "<style scoped>\n",
       "    .dataframe tbody tr th:only-of-type {\n",
       "        vertical-align: middle;\n",
       "    }\n",
       "\n",
       "    .dataframe tbody tr th {\n",
       "        vertical-align: top;\n",
       "    }\n",
       "\n",
       "    .dataframe thead th {\n",
       "        text-align: right;\n",
       "    }\n",
       "</style>\n",
       "<table border=\"1\" class=\"dataframe\">\n",
       "  <thead>\n",
       "    <tr style=\"text-align: right;\">\n",
       "      <th></th>\n",
       "      <th>pm2.5</th>\n",
       "      <th>DEWP</th>\n",
       "      <th>TEMP</th>\n",
       "      <th>PRES</th>\n",
       "      <th>cbwd</th>\n",
       "      <th>Iws</th>\n",
       "    </tr>\n",
       "  </thead>\n",
       "  <tbody>\n",
       "    <tr>\n",
       "      <th>0</th>\n",
       "      <td>129.0</td>\n",
       "      <td>-16</td>\n",
       "      <td>-4.0</td>\n",
       "      <td>1020.0</td>\n",
       "      <td>2</td>\n",
       "      <td>1.79</td>\n",
       "    </tr>\n",
       "    <tr>\n",
       "      <th>1</th>\n",
       "      <td>148.0</td>\n",
       "      <td>-15</td>\n",
       "      <td>-4.0</td>\n",
       "      <td>1020.0</td>\n",
       "      <td>2</td>\n",
       "      <td>2.68</td>\n",
       "    </tr>\n",
       "    <tr>\n",
       "      <th>2</th>\n",
       "      <td>159.0</td>\n",
       "      <td>-11</td>\n",
       "      <td>-5.0</td>\n",
       "      <td>1021.0</td>\n",
       "      <td>2</td>\n",
       "      <td>3.57</td>\n",
       "    </tr>\n",
       "    <tr>\n",
       "      <th>3</th>\n",
       "      <td>181.0</td>\n",
       "      <td>-7</td>\n",
       "      <td>-5.0</td>\n",
       "      <td>1022.0</td>\n",
       "      <td>2</td>\n",
       "      <td>5.36</td>\n",
       "    </tr>\n",
       "    <tr>\n",
       "      <th>4</th>\n",
       "      <td>138.0</td>\n",
       "      <td>-7</td>\n",
       "      <td>-5.0</td>\n",
       "      <td>1022.0</td>\n",
       "      <td>2</td>\n",
       "      <td>6.25</td>\n",
       "    </tr>\n",
       "    <tr>\n",
       "      <th>...</th>\n",
       "      <td>...</td>\n",
       "      <td>...</td>\n",
       "      <td>...</td>\n",
       "      <td>...</td>\n",
       "      <td>...</td>\n",
       "      <td>...</td>\n",
       "    </tr>\n",
       "    <tr>\n",
       "      <th>41752</th>\n",
       "      <td>8.0</td>\n",
       "      <td>-23</td>\n",
       "      <td>-2.0</td>\n",
       "      <td>1034.0</td>\n",
       "      <td>1</td>\n",
       "      <td>231.97</td>\n",
       "    </tr>\n",
       "    <tr>\n",
       "      <th>41753</th>\n",
       "      <td>10.0</td>\n",
       "      <td>-22</td>\n",
       "      <td>-3.0</td>\n",
       "      <td>1034.0</td>\n",
       "      <td>1</td>\n",
       "      <td>237.78</td>\n",
       "    </tr>\n",
       "    <tr>\n",
       "      <th>41754</th>\n",
       "      <td>10.0</td>\n",
       "      <td>-22</td>\n",
       "      <td>-3.0</td>\n",
       "      <td>1034.0</td>\n",
       "      <td>1</td>\n",
       "      <td>242.70</td>\n",
       "    </tr>\n",
       "    <tr>\n",
       "      <th>41755</th>\n",
       "      <td>8.0</td>\n",
       "      <td>-22</td>\n",
       "      <td>-4.0</td>\n",
       "      <td>1034.0</td>\n",
       "      <td>1</td>\n",
       "      <td>246.72</td>\n",
       "    </tr>\n",
       "    <tr>\n",
       "      <th>41756</th>\n",
       "      <td>12.0</td>\n",
       "      <td>-21</td>\n",
       "      <td>-3.0</td>\n",
       "      <td>1034.0</td>\n",
       "      <td>1</td>\n",
       "      <td>249.85</td>\n",
       "    </tr>\n",
       "  </tbody>\n",
       "</table>\n",
       "<p>41757 rows × 6 columns</p>\n",
       "</div>"
      ],
      "text/plain": [
       "       pm2.5  DEWP  TEMP    PRES  cbwd     Iws\n",
       "0      129.0   -16  -4.0  1020.0     2    1.79\n",
       "1      148.0   -15  -4.0  1020.0     2    2.68\n",
       "2      159.0   -11  -5.0  1021.0     2    3.57\n",
       "3      181.0    -7  -5.0  1022.0     2    5.36\n",
       "4      138.0    -7  -5.0  1022.0     2    6.25\n",
       "...      ...   ...   ...     ...   ...     ...\n",
       "41752    8.0   -23  -2.0  1034.0     1  231.97\n",
       "41753   10.0   -22  -3.0  1034.0     1  237.78\n",
       "41754   10.0   -22  -3.0  1034.0     1  242.70\n",
       "41755    8.0   -22  -4.0  1034.0     1  246.72\n",
       "41756   12.0   -21  -3.0  1034.0     1  249.85\n",
       "\n",
       "[41757 rows x 6 columns]"
      ]
     },
     "execution_count": 14,
     "metadata": {},
     "output_type": "execute_result"
    }
   ],
   "source": [
    "df_copy"
   ]
  },
  {
   "cell_type": "code",
   "execution_count": 15,
   "id": "0453890a",
   "metadata": {},
   "outputs": [
    {
     "data": {
      "text/plain": [
       "2    14573\n",
       "1    13484\n",
       "3     8944\n",
       "0     4756\n",
       "Name: cbwd, dtype: int64"
      ]
     },
     "execution_count": 15,
     "metadata": {},
     "output_type": "execute_result"
    }
   ],
   "source": [
    "df_copy['cbwd'].value_counts()\n"
   ]
  },
  {
   "cell_type": "code",
   "execution_count": 16,
   "id": "535feeb5",
   "metadata": {},
   "outputs": [
    {
     "data": {
      "image/png": "[encoded data removed]",
      "text/plain": [
       "<Figure size 2000x1500 with 6 Axes>"
      ]
     },
     "metadata": {},
     "output_type": "display_data"
    }
   ],
   "source": [
    "plt.style.use('seaborn')\n",
    "df_copy.hist(bins=50,figsize=(20,15))\n",
    "plt.show()"
   ]
  },
  {
   "cell_type": "code",
   "execution_count": 17,
   "id": "8dbcdd2a",
   "metadata": {},
   "outputs": [
    {
     "data": {
      "text/html": [
       "<div>\n",
       "<style scoped>\n",
       "    .dataframe tbody tr th:only-of-type {\n",
       "        vertical-align: middle;\n",
       "    }\n",
       "\n",
       "    .dataframe tbody tr th {\n",
       "        vertical-align: top;\n",
       "    }\n",
       "\n",
       "    .dataframe thead th {\n",
       "        text-align: right;\n",
       "    }\n",
       "</style>\n",
       "<table border=\"1\" class=\"dataframe\">\n",
       "  <thead>\n",
       "    <tr style=\"text-align: right;\">\n",
       "      <th></th>\n",
       "      <th>pm2.5</th>\n",
       "      <th>DEWP</th>\n",
       "      <th>TEMP</th>\n",
       "      <th>PRES</th>\n",
       "      <th>cbwd</th>\n",
       "      <th>Iws</th>\n",
       "    </tr>\n",
       "  </thead>\n",
       "  <tbody>\n",
       "    <tr>\n",
       "      <th>pm2.5</th>\n",
       "      <td>1.000000</td>\n",
       "      <td>0.171423</td>\n",
       "      <td>-0.090534</td>\n",
       "      <td>-0.047282</td>\n",
       "      <td>0.197150</td>\n",
       "      <td>-0.247784</td>\n",
       "    </tr>\n",
       "    <tr>\n",
       "      <th>DEWP</th>\n",
       "      <td>0.171423</td>\n",
       "      <td>1.000000</td>\n",
       "      <td>0.823821</td>\n",
       "      <td>-0.777722</td>\n",
       "      <td>0.232838</td>\n",
       "      <td>-0.293106</td>\n",
       "    </tr>\n",
       "    <tr>\n",
       "      <th>TEMP</th>\n",
       "      <td>-0.090534</td>\n",
       "      <td>0.823821</td>\n",
       "      <td>1.000000</td>\n",
       "      <td>-0.826903</td>\n",
       "      <td>0.175498</td>\n",
       "      <td>-0.149613</td>\n",
       "    </tr>\n",
       "    <tr>\n",
       "      <th>PRES</th>\n",
       "      <td>-0.047282</td>\n",
       "      <td>-0.777722</td>\n",
       "      <td>-0.826903</td>\n",
       "      <td>1.000000</td>\n",
       "      <td>-0.167989</td>\n",
       "      <td>0.178871</td>\n",
       "    </tr>\n",
       "    <tr>\n",
       "      <th>cbwd</th>\n",
       "      <td>0.197150</td>\n",
       "      <td>0.232838</td>\n",
       "      <td>0.175498</td>\n",
       "      <td>-0.167989</td>\n",
       "      <td>1.000000</td>\n",
       "      <td>-0.200870</td>\n",
       "    </tr>\n",
       "    <tr>\n",
       "      <th>Iws</th>\n",
       "      <td>-0.247784</td>\n",
       "      <td>-0.293106</td>\n",
       "      <td>-0.149613</td>\n",
       "      <td>0.178871</td>\n",
       "      <td>-0.200870</td>\n",
       "      <td>1.000000</td>\n",
       "    </tr>\n",
       "  </tbody>\n",
       "</table>\n",
       "</div>"
      ],
      "text/plain": [
       "          pm2.5      DEWP      TEMP      PRES      cbwd       Iws\n",
       "pm2.5  1.000000  0.171423 -0.090534 -0.047282  0.197150 -0.247784\n",
       "DEWP   0.171423  1.000000  0.823821 -0.777722  0.232838 -0.293106\n",
       "TEMP  -0.090534  0.823821  1.000000 -0.826903  0.175498 -0.149613\n",
       "PRES  -0.047282 -0.777722 -0.826903  1.000000 -0.167989  0.178871\n",
       "cbwd   0.197150  0.232838  0.175498 -0.167989  1.000000 -0.200870\n",
       "Iws   -0.247784 -0.293106 -0.149613  0.178871 -0.200870  1.000000"
      ]
     },
     "execution_count": 17,
     "metadata": {},
     "output_type": "execute_result"
    }
   ],
   "source": [
    "# correlation -->\n",
    "df_copy.corr()"
   ]
  },
  {
   "cell_type": "code",
   "execution_count": 18,
   "id": "eb4cca0e",
   "metadata": {},
   "outputs": [
    {
     "data": {
      "text/plain": [
       "<AxesSubplot:>"
      ]
     },
     "execution_count": 18,
     "metadata": {},
     "output_type": "execute_result"
    },
    {
     "data": {
      "image/png": "[encoded data removed]",
      "text/plain": [
       "<Figure size 800x550 with 2 Axes>"
      ]
     },
     "metadata": {},
     "output_type": "display_data"
    }
   ],
   "source": [
    "sns.heatmap(df_copy.corr(),annot=True)"
   ]
  },
  {
   "cell_type": "code",
   "execution_count": 19,
   "id": "ab7a6d77",
   "metadata": {},
   "outputs": [],
   "source": [
    "x = df_copy.iloc[:,:].drop(['pm2.5'],axis=1)\n",
    "y = df_copy.iloc[:,0]"
   ]
  },
  {
   "cell_type": "code",
   "execution_count": 20,
   "id": "6dbb378c",
   "metadata": {},
   "outputs": [
    {
     "data": {
      "text/html": [
       "<div>\n",
       "<style scoped>\n",
       "    .dataframe tbody tr th:only-of-type {\n",
       "        vertical-align: middle;\n",
       "    }\n",
       "\n",
       "    .dataframe tbody tr th {\n",
       "        vertical-align: top;\n",
       "    }\n",
       "\n",
       "    .dataframe thead th {\n",
       "        text-align: right;\n",
       "    }\n",
       "</style>\n",
       "<table border=\"1\" class=\"dataframe\">\n",
       "  <thead>\n",
       "    <tr style=\"text-align: right;\">\n",
       "      <th></th>\n",
       "      <th>DEWP</th>\n",
       "      <th>TEMP</th>\n",
       "      <th>PRES</th>\n",
       "      <th>cbwd</th>\n",
       "      <th>Iws</th>\n",
       "    </tr>\n",
       "  </thead>\n",
       "  <tbody>\n",
       "    <tr>\n",
       "      <th>0</th>\n",
       "      <td>-16</td>\n",
       "      <td>-4.0</td>\n",
       "      <td>1020.0</td>\n",
       "      <td>2</td>\n",
       "      <td>1.79</td>\n",
       "    </tr>\n",
       "    <tr>\n",
       "      <th>1</th>\n",
       "      <td>-15</td>\n",
       "      <td>-4.0</td>\n",
       "      <td>1020.0</td>\n",
       "      <td>2</td>\n",
       "      <td>2.68</td>\n",
       "    </tr>\n",
       "    <tr>\n",
       "      <th>2</th>\n",
       "      <td>-11</td>\n",
       "      <td>-5.0</td>\n",
       "      <td>1021.0</td>\n",
       "      <td>2</td>\n",
       "      <td>3.57</td>\n",
       "    </tr>\n",
       "    <tr>\n",
       "      <th>3</th>\n",
       "      <td>-7</td>\n",
       "      <td>-5.0</td>\n",
       "      <td>1022.0</td>\n",
       "      <td>2</td>\n",
       "      <td>5.36</td>\n",
       "    </tr>\n",
       "    <tr>\n",
       "      <th>4</th>\n",
       "      <td>-7</td>\n",
       "      <td>-5.0</td>\n",
       "      <td>1022.0</td>\n",
       "      <td>2</td>\n",
       "      <td>6.25</td>\n",
       "    </tr>\n",
       "    <tr>\n",
       "      <th>...</th>\n",
       "      <td>...</td>\n",
       "      <td>...</td>\n",
       "      <td>...</td>\n",
       "      <td>...</td>\n",
       "      <td>...</td>\n",
       "    </tr>\n",
       "    <tr>\n",
       "      <th>41752</th>\n",
       "      <td>-23</td>\n",
       "      <td>-2.0</td>\n",
       "      <td>1034.0</td>\n",
       "      <td>1</td>\n",
       "      <td>231.97</td>\n",
       "    </tr>\n",
       "    <tr>\n",
       "      <th>41753</th>\n",
       "      <td>-22</td>\n",
       "      <td>-3.0</td>\n",
       "      <td>1034.0</td>\n",
       "      <td>1</td>\n",
       "      <td>237.78</td>\n",
       "    </tr>\n",
       "    <tr>\n",
       "      <th>41754</th>\n",
       "      <td>-22</td>\n",
       "      <td>-3.0</td>\n",
       "      <td>1034.0</td>\n",
       "      <td>1</td>\n",
       "      <td>242.70</td>\n",
       "    </tr>\n",
       "    <tr>\n",
       "      <th>41755</th>\n",
       "      <td>-22</td>\n",
       "      <td>-4.0</td>\n",
       "      <td>1034.0</td>\n",
       "      <td>1</td>\n",
       "      <td>246.72</td>\n",
       "    </tr>\n",
       "    <tr>\n",
       "      <th>41756</th>\n",
       "      <td>-21</td>\n",
       "      <td>-3.0</td>\n",
       "      <td>1034.0</td>\n",
       "      <td>1</td>\n",
       "      <td>249.85</td>\n",
       "    </tr>\n",
       "  </tbody>\n",
       "</table>\n",
       "<p>41757 rows × 5 columns</p>\n",
       "</div>"
      ],
      "text/plain": [
       "       DEWP  TEMP    PRES  cbwd     Iws\n",
       "0       -16  -4.0  1020.0     2    1.79\n",
       "1       -15  -4.0  1020.0     2    2.68\n",
       "2       -11  -5.0  1021.0     2    3.57\n",
       "3        -7  -5.0  1022.0     2    5.36\n",
       "4        -7  -5.0  1022.0     2    6.25\n",
       "...     ...   ...     ...   ...     ...\n",
       "41752   -23  -2.0  1034.0     1  231.97\n",
       "41753   -22  -3.0  1034.0     1  237.78\n",
       "41754   -22  -3.0  1034.0     1  242.70\n",
       "41755   -22  -4.0  1034.0     1  246.72\n",
       "41756   -21  -3.0  1034.0     1  249.85\n",
       "\n",
       "[41757 rows x 5 columns]"
      ]
     },
     "execution_count": 20,
     "metadata": {},
     "output_type": "execute_result"
    }
   ],
   "source": [
    "x"
   ]
  },
  {
   "cell_type": "code",
   "execution_count": 21,
   "id": "16948c22",
   "metadata": {},
   "outputs": [
    {
     "data": {
      "text/plain": [
       "0        129.0\n",
       "1        148.0\n",
       "2        159.0\n",
       "3        181.0\n",
       "4        138.0\n",
       "         ...  \n",
       "41752      8.0\n",
       "41753     10.0\n",
       "41754     10.0\n",
       "41755      8.0\n",
       "41756     12.0\n",
       "Name: pm2.5, Length: 41757, dtype: float64"
      ]
     },
     "execution_count": 21,
     "metadata": {},
     "output_type": "execute_result"
    }
   ],
   "source": [
    "y"
   ]
  },
  {
   "cell_type": "code",
   "execution_count": 22,
   "id": "50271539",
   "metadata": {},
   "outputs": [],
   "source": [
    "from sklearn.model_selection import train_test_split\n",
    "x_train,x_test,y_train,y_test = train_test_split(x,y,random_state=42,test_size=0.33)"
   ]
  },
  {
   "cell_type": "code",
   "execution_count": 23,
   "id": "bf3ac87d",
   "metadata": {},
   "outputs": [
    {
     "data": {
      "text/plain": [
       "(       DEWP  TEMP    PRES  cbwd     Iws\n",
       " 30727    18  20.0  1013.0     1    0.89\n",
       " 290     -20 -15.0  1025.0     1    0.89\n",
       " 41755   -22  -4.0  1034.0     1  246.72\n",
       " 14104     3   6.0  1030.0     1   19.67\n",
       " 19592     9  18.0  1016.0     0    8.94\n",
       " ...     ...   ...     ...   ...     ...\n",
       " 6265     -1  20.0  1018.0     1   54.53\n",
       " 11284     3  21.0  1003.0     1    8.04\n",
       " 38158    22  32.0  1006.0     2    1.79\n",
       " 860     -13   4.0  1023.0     2    1.79\n",
       " 15795   -18  -6.0  1035.0     0   17.88\n",
       " \n",
       " [27977 rows x 5 columns],\n",
       "        DEWP  TEMP    PRES  cbwd     Iws\n",
       " 25229    -7  -7.0  1020.0     1   16.10\n",
       " 33886   -31  -2.0  1027.0     1   13.86\n",
       " 26204     3  10.0  1020.0     2   29.05\n",
       " 27348     4  21.0  1015.0     2   12.96\n",
       " 32149   -12  11.0  1024.0     3    2.68\n",
       " ...     ...   ...     ...   ...     ...\n",
       " 474     -20  -2.0  1034.0     1   15.65\n",
       " 24017   -16  -4.0  1027.0     0    4.92\n",
       " 7007     -4  -1.0  1023.0     1  291.62\n",
       " 18455     8  21.0  1006.0     2   78.24\n",
       " 14493     3   9.0  1024.0     0   12.96\n",
       " \n",
       " [13780 rows x 5 columns],\n",
       " 30727    158.0\n",
       " 290      174.0\n",
       " 41755      8.0\n",
       " 14104     50.0\n",
       " 19592      9.0\n",
       "          ...  \n",
       " 6265       7.0\n",
       " 11284     18.0\n",
       " 38158    103.0\n",
       " 860       51.0\n",
       " 15795     19.0\n",
       " Name: pm2.5, Length: 27977, dtype: float64,\n",
       " 25229    215.0\n",
       " 33886      6.0\n",
       " 26204    280.0\n",
       " 27348     57.0\n",
       " 32149     50.0\n",
       "          ...  \n",
       " 474       40.0\n",
       " 24017     48.0\n",
       " 7007     142.0\n",
       " 18455     56.0\n",
       " 14493     16.0\n",
       " Name: pm2.5, Length: 13780, dtype: float64)"
      ]
     },
     "execution_count": 23,
     "metadata": {},
     "output_type": "execute_result"
    }
   ],
   "source": [
    "x_train,x_test,y_train,y_test"
   ]
  },
  {
   "cell_type": "markdown",
   "id": "813338a8",
   "metadata": {},
   "source": [
    "# Feature Scaling or standardization "
   ]
  },
  {
   "cell_type": "code",
   "execution_count": 24,
   "id": "f91cf4b9",
   "metadata": {},
   "outputs": [],
   "source": [
    "from sklearn.preprocessing import StandardScaler\n",
    "scaler = StandardScaler()\n",
    "x_trained_scaled = scaler.fit_transform(x_train)\n",
    "x_test_scaled = scaler.transform(x_test)"
   ]
  },
  {
   "cell_type": "code",
   "execution_count": 25,
   "id": "f00acac7",
   "metadata": {},
   "outputs": [
    {
     "data": {
      "text/plain": [
       "array([[-0.60237403, -1.59156653,  0.344509  , -0.71025646, -0.15544821],\n",
       "       [-2.26737831, -1.18063471,  1.02420244, -0.71025646, -0.20075546],\n",
       "       [ 0.09137775, -0.19439835,  0.344509  ,  0.35446223,  0.10648432],\n",
       "       ...,\n",
       "       [-0.3942485 , -1.09844835,  0.63580619, -0.71025646,  5.41734346],\n",
       "       [ 0.43825364,  0.70965165, -1.0148779 ,  0.35446223,  1.10142343],\n",
       "       [ 0.09137775, -0.27658471,  0.73290525, -1.77497516, -0.21895927]])"
      ]
     },
     "execution_count": 25,
     "metadata": {},
     "output_type": "execute_result"
    }
   ],
   "source": [
    "x_test_scaled"
   ]
  },
  {
   "cell_type": "markdown",
   "id": "9a772e32",
   "metadata": {},
   "source": [
    "#  Box plot to understand effect of standard scaler"
   ]
  },
  {
   "cell_type": "code",
   "execution_count": 26,
   "id": "13e97a72",
   "metadata": {},
   "outputs": [
    {
     "data": {
      "text/plain": [
       "Text(0.5, 1.0, 'x_train after scaling')"
      ]
     },
     "execution_count": 26,
     "metadata": {},
     "output_type": "execute_result"
    },
    {
     "data": {
      "image/png": "[encoded data removed]",
      "text/plain": [
       "<Figure size 1500x500 with 2 Axes>"
      ]
     },
     "metadata": {},
     "output_type": "display_data"
    }
   ],
   "source": [
    "plt.subplots(figsize=(15,5))\n",
    "plt.subplot(1,2,1)\n",
    "sns.boxplot(data = x_train)\n",
    "plt.title(\"x_train before scaling\")\n",
    "plt.subplot(1,2,2)\n",
    "sns.boxplot(data=x_trained_scaled)\n",
    "plt.title('x_train after scaling')"
   ]
  },
  {
   "cell_type": "markdown",
   "id": "daddc0e8",
   "metadata": {},
   "source": [
    "# Ridge Regressor Model"
   ]
  },
  {
   "cell_type": "code",
   "execution_count": 27,
   "id": "bc30460e",
   "metadata": {},
   "outputs": [],
   "source": [
    "from sklearn.linear_model import Ridge\n",
    "ridge = Ridge()\n",
    "ridge.fit(x_trained_scaled,y_train)\n",
    "y_pred_train_ridge = ridge.predict(x_trained_scaled)\n",
    "y_pred_ridge = ridge.predict(x_test_scaled)"
   ]
  },
  {
   "cell_type": "code",
   "execution_count": 28,
   "id": "e31b4588",
   "metadata": {},
   "outputs": [
    {
     "data": {
      "text/plain": [
       "(array([120.37886253, 157.63861822,  13.89440491, ...,  88.63471759,\n",
       "         89.95216554,  82.10184069]),\n",
       " array([165.66337732,  32.39863912, 115.82304845, ...,  72.0723062 ,\n",
       "         79.07577029,  94.11056011]))"
      ]
     },
     "execution_count": 28,
     "metadata": {},
     "output_type": "execute_result"
    }
   ],
   "source": [
    "y_pred_train_ridge, y_pred_ridge"
   ]
  },
  {
   "cell_type": "code",
   "execution_count": null,
   "id": "d563d1e6",
   "metadata": {},
   "outputs": [],
   "source": []
  },
  {
   "cell_type": "markdown",
   "id": "b875a99a",
   "metadata": {},
   "source": [
    "# Random Forest Regressor Model"
   ]
  },
  {
   "cell_type": "code",
   "execution_count": 29,
   "id": "bd8e9469",
   "metadata": {},
   "outputs": [],
   "source": [
    "from sklearn.ensemble import RandomForestRegressor\n",
    "rfr_model = RandomForestRegressor(n_estimators=100, random_state=42)"
   ]
  },
  {
   "cell_type": "code",
   "execution_count": 30,
   "id": "fa7f5bee",
   "metadata": {},
   "outputs": [
    {
     "data": {
      "text/plain": [
       "(array([174.40333333, 147.24      ,   9.99      , ..., 103.99      ,\n",
       "         60.41666667,  24.88      ]),\n",
       " array([227.8 ,  22.89, 176.09, ..., 126.11,  55.39,  55.5 ]))"
      ]
     },
     "execution_count": 30,
     "metadata": {},
     "output_type": "execute_result"
    }
   ],
   "source": [
    "rfr_model.fit(x_trained_scaled,y_train)\n",
    "y_pred_train_rfr = rfr_model.predict(x_trained_scaled)\n",
    "y_pred_rfr = rfr_model.predict(x_test_scaled)\n",
    "y_pred_train_rfr , y_pred_rfr"
   ]
  },
  {
   "cell_type": "code",
   "execution_count": null,
   "id": "6f40fb24",
   "metadata": {},
   "outputs": [],
   "source": []
  },
  {
   "cell_type": "markdown",
   "id": "2dbf44d2",
   "metadata": {},
   "source": [
    "# Model Evaluation"
   ]
  },
  {
   "cell_type": "code",
   "execution_count": 31,
   "id": "8f995a6a",
   "metadata": {},
   "outputs": [],
   "source": [
    "from sklearn.metrics import mean_squared_error,mean_absolute_error\n",
    "from sklearn.metrics import r2_score"
   ]
  },
  {
   "cell_type": "markdown",
   "id": "76718484",
   "metadata": {},
   "source": [
    "# Ridge Regressor Model Evaluation"
   ]
  },
  {
   "cell_type": "code",
   "execution_count": 32,
   "id": "cceafcb8",
   "metadata": {},
   "outputs": [
    {
     "name": "stdout",
     "output_type": "stream",
     "text": [
      "6392.434036011941 58.04111629336734 79.9526987412679 0.2430129281093697\n"
     ]
    }
   ],
   "source": [
    "# for training data -\n",
    "MSE_train = mean_squared_error(y_pred_train_ridge,y_train)\n",
    "MAE_train = mean_absolute_error(y_pred_train_ridge,y_train)\n",
    "RMSE_train = np.sqrt(MSE_train)\n",
    "score_train = r2_score(y_train,y_pred_train_ridge)\n",
    "print(MSE_train,MAE_train,RMSE_train,score_train)"
   ]
  },
  {
   "cell_type": "code",
   "execution_count": 33,
   "id": "5346ddbf",
   "metadata": {},
   "outputs": [
    {
     "name": "stdout",
     "output_type": "stream",
     "text": [
      "6502.983442878626 58.16319737423288 80.64107788762887 0.23771026982485077\n"
     ]
    }
   ],
   "source": [
    "# for testing data - \n",
    "MSE_test = mean_squared_error(y_pred_ridge,y_test)\n",
    "MAE_test = mean_absolute_error(y_pred_ridge,y_test)\n",
    "RMSE_test = np.sqrt(MSE_test)\n",
    "score_test = r2_score(y_test,y_pred_ridge)\n",
    "print(MSE_test,MAE_test,RMSE_test,score_test)"
   ]
  },
  {
   "cell_type": "code",
   "execution_count": null,
   "id": "53832de6",
   "metadata": {},
   "outputs": [],
   "source": []
  },
  {
   "cell_type": "markdown",
   "id": "a3d29bd4",
   "metadata": {},
   "source": [
    "# Random Forest Regressor Model Evaluation "
   ]
  },
  {
   "cell_type": "code",
   "execution_count": 34,
   "id": "ef806803",
   "metadata": {},
   "outputs": [
    {
     "name": "stdout",
     "output_type": "stream",
     "text": [
      "809.458270542106 18.30014154809181 28.45098013324156 0.9041445805176271\n"
     ]
    }
   ],
   "source": [
    "# for training data -\n",
    "MSE_train_RFR = mean_squared_error(y_pred_train_rfr,y_train)\n",
    "MAE_train_RFR = mean_absolute_error(y_pred_train_rfr,y_train)\n",
    "RMSE_train_RFR = np.sqrt(MSE_train_RFR)\n",
    "score_train_RFR = r2_score(y_train,y_pred_train_rfr)\n",
    "print(MSE_train_RFR,MAE_train_RFR,RMSE_train_RFR,score_train_RFR)"
   ]
  },
  {
   "cell_type": "code",
   "execution_count": 35,
   "id": "7d5dd4e6",
   "metadata": {},
   "outputs": [
    {
     "name": "stdout",
     "output_type": "stream",
     "text": [
      "5235.079375605886 47.52797748009328 72.35384838145022 0.386335936462174\n"
     ]
    }
   ],
   "source": [
    "# for testing data -\n",
    "MSE_test_RFR = mean_squared_error(y_pred_rfr,y_test)\n",
    "MAE_test_RFR = mean_absolute_error(y_pred_rfr,y_test)\n",
    "RMSE_test_RFR = np.sqrt(MSE_test_RFR)\n",
    "score_test_rfr = r2_score(y_test,y_pred_rfr)\n",
    "print(MSE_test_RFR  , MAE_test_RFR , RMSE_test_RFR , score_test_rfr)"
   ]
  },
  {
   "cell_type": "code",
   "execution_count": null,
   "id": "ef960add",
   "metadata": {},
   "outputs": [],
   "source": []
  },
  {
   "cell_type": "markdown",
   "id": "605c21ea",
   "metadata": {},
   "source": [
    "# CrossValidation - "
   ]
  },
  {
   "cell_type": "code",
   "execution_count": 36,
   "id": "46ca6f9e",
   "metadata": {},
   "outputs": [],
   "source": [
    "# RIDGE REGRESSION - \n",
    "param_grid = {\n",
    "    'alpha': [0.1, 1.0, 10.0, 100.0] \n",
    "}"
   ]
  },
  {
   "cell_type": "code",
   "execution_count": 37,
   "id": "7a2bbe77",
   "metadata": {},
   "outputs": [],
   "source": [
    "from sklearn.model_selection import RandomizedSearchCV\n",
    "from sklearn.linear_model import Ridge\n",
    "ridge = Ridge()\n",
    "clf_ridge = RandomizedSearchCV(ridge,param_distributions=param_grid,scoring='neg_mean_squared_error',cv=10,verbose=3)"
   ]
  },
  {
   "cell_type": "code",
   "execution_count": 38,
   "id": "e351b2f9",
   "metadata": {},
   "outputs": [
    {
     "name": "stdout",
     "output_type": "stream",
     "text": [
      "Fitting 10 folds for each of 4 candidates, totalling 40 fits\n",
      "[CV 1/10] END ....................alpha=0.1;, score=-6077.982 total time=   0.0s\n",
      "[CV 2/10] END ....................alpha=0.1;, score=-6597.788 total time=   0.0s\n",
      "[CV 3/10] END ....................alpha=0.1;, score=-6897.276 total time=   0.0s\n",
      "[CV 4/10] END ....................alpha=0.1;, score=-5941.055 total time=   0.0s\n",
      "[CV 5/10] END ....................alpha=0.1;, score=-6430.831 total time=   0.0s\n",
      "[CV 6/10] END ....................alpha=0.1;, score=-6337.091 total time=   0.0s\n",
      "[CV 7/10] END ....................alpha=0.1;, score=-6391.938 total time=   0.0s\n",
      "[CV 8/10] END ....................alpha=0.1;, score=-6529.926 total time=   0.0s\n",
      "[CV 9/10] END ....................alpha=0.1;, score=-6639.731 total time=   0.0s\n",
      "[CV 10/10] END ...................alpha=0.1;, score=-6101.076 total time=   0.0s\n",
      "[CV 1/10] END ....................alpha=1.0;, score=-6077.976 total time=   0.0s\n",
      "[CV 2/10] END ....................alpha=1.0;, score=-6597.776 total time=   0.0s\n",
      "[CV 3/10] END ....................alpha=1.0;, score=-6897.269 total time=   0.0s\n",
      "[CV 4/10] END ....................alpha=1.0;, score=-5941.067 total time=   0.0s\n",
      "[CV 5/10] END ....................alpha=1.0;, score=-6430.846 total time=   0.0s\n",
      "[CV 6/10] END ....................alpha=1.0;, score=-6337.067 total time=   0.0s\n",
      "[CV 7/10] END ....................alpha=1.0;, score=-6391.960 total time=   0.0s\n",
      "[CV 8/10] END ....................alpha=1.0;, score=-6529.926 total time=   0.0s\n",
      "[CV 9/10] END ....................alpha=1.0;, score=-6639.758 total time=   0.0s\n",
      "[CV 10/10] END ...................alpha=1.0;, score=-6101.049 total time=   0.0s\n",
      "[CV 1/10] END ...................alpha=10.0;, score=-6077.927 total time=   0.0s\n",
      "[CV 2/10] END ...................alpha=10.0;, score=-6597.668 total time=   0.0s\n",
      "[CV 3/10] END ...................alpha=10.0;, score=-6897.214 total time=   0.0s\n",
      "[CV 4/10] END ...................alpha=10.0;, score=-5941.186 total time=   0.0s\n",
      "[CV 5/10] END ...................alpha=10.0;, score=-6430.995 total time=   0.0s\n",
      "[CV 6/10] END ...................alpha=10.0;, score=-6336.833 total time=   0.0s\n",
      "[CV 7/10] END ...................alpha=10.0;, score=-6392.180 total time=   0.0s\n",
      "[CV 8/10] END ...................alpha=10.0;, score=-6529.936 total time=   0.0s\n",
      "[CV 9/10] END ...................alpha=10.0;, score=-6640.030 total time=   0.0s\n",
      "[CV 10/10] END ..................alpha=10.0;, score=-6100.791 total time=   0.0s\n",
      "[CV 1/10] END ..................alpha=100.0;, score=-6078.147 total time=   0.0s\n",
      "[CV 2/10] END ..................alpha=100.0;, score=-6597.329 total time=   0.0s\n",
      "[CV 3/10] END ..................alpha=100.0;, score=-6897.382 total time=   0.0s\n",
      "[CV 4/10] END ..................alpha=100.0;, score=-5943.032 total time=   0.0s\n"
     ]
    },
    {
     "name": "stderr",
     "output_type": "stream",
     "text": [
      "C:\\Users\\HP\\anaconda3\\lib\\site-packages\\sklearn\\model_selection\\_search.py:292: UserWarning: The total space of parameters 4 is smaller than n_iter=10. Running 4 iterations. For exhaustive searches, use GridSearchCV.\n",
      "  warnings.warn(\n"
     ]
    },
    {
     "name": "stdout",
     "output_type": "stream",
     "text": [
      "[CV 5/10] END ..................alpha=100.0;, score=-6433.145 total time=   0.0s\n",
      "[CV 6/10] END ..................alpha=100.0;, score=-6335.327 total time=   0.0s\n",
      "[CV 7/10] END ..................alpha=100.0;, score=-6395.018 total time=   0.0s\n",
      "[CV 8/10] END ..................alpha=100.0;, score=-6530.745 total time=   0.0s\n",
      "[CV 9/10] END ..................alpha=100.0;, score=-6643.392 total time=   0.0s\n",
      "[CV 10/10] END .................alpha=100.0;, score=-6098.975 total time=   0.0s\n"
     ]
    },
    {
     "data": {
      "text/plain": [
       "RandomizedSearchCV(cv=10, estimator=Ridge(),\n",
       "                   param_distributions={'alpha': [0.1, 1.0, 10.0, 100.0]},\n",
       "                   scoring='neg_mean_squared_error', verbose=3)"
      ]
     },
     "execution_count": 38,
     "metadata": {},
     "output_type": "execute_result"
    }
   ],
   "source": [
    "clf_ridge.fit(x_trained_scaled,y_train)"
   ]
  },
  {
   "cell_type": "code",
   "execution_count": 39,
   "id": "d6a17716",
   "metadata": {},
   "outputs": [
    {
     "data": {
      "text/plain": [
       "array([165.66337732,  32.39863912, 115.82304845, ...,  72.0723062 ,\n",
       "        79.07577029,  94.11056011])"
      ]
     },
     "execution_count": 39,
     "metadata": {},
     "output_type": "execute_result"
    }
   ],
   "source": [
    "y_pred_ridge_clf = clf_ridge.predict(x_test_scaled)\n",
    "y_pred_ridge_clf"
   ]
  },
  {
   "cell_type": "code",
   "execution_count": 48,
   "id": "a9d91d94",
   "metadata": {},
   "outputs": [
    {
     "name": "stdout",
     "output_type": "stream",
     "text": [
      "MSE_CV_RIDGE : 6502.983442878626 MAE_CV_RIDGE : 58.16319737423288 RMSE_CV_RIDGE : 80.64107788762887 score_cv_ridge : 0.23771026982485077\n"
     ]
    }
   ],
   "source": [
    "# Evaluation - \n",
    "MSE_CV_RIDGE = mean_squared_error(y_pred_ridge_clf,y_test)\n",
    "MAE_CV_RIDGE = mean_absolute_error(y_pred_ridge_clf,y_test)\n",
    "RMSE_CV_RIDGE = np.sqrt(MSE_CV_RIDGE)\n",
    "score_cv_ridge = r2_score(y_test,y_pred_ridge_clf)\n",
    "print('MSE_CV_RIDGE :',MSE_CV_RIDGE , 'MAE_CV_RIDGE :',MAE_CV_RIDGE , 'RMSE_CV_RIDGE :',RMSE_CV_RIDGE ,'score_cv_ridge :', score_cv_ridge)"
   ]
  },
  {
   "cell_type": "code",
   "execution_count": 41,
   "id": "6529ffee",
   "metadata": {},
   "outputs": [],
   "source": [
    "# Random forest classifier -- >\n",
    "\n",
    "param_grid_rfc = {\n",
    "    'n_estimators': [50, 100, 150],\n",
    "    'max_depth': [5, 10, 15],\n",
    "    'min_samples_split': [2, 5, 10],\n",
    "    'min_samples_leaf': [1, 2, 4],\n",
    "}"
   ]
  },
  {
   "cell_type": "code",
   "execution_count": 42,
   "id": "9a0dda9c",
   "metadata": {},
   "outputs": [],
   "source": [
    "from sklearn.ensemble import RandomForestRegressor\n",
    "RFR = RandomForestRegressor()"
   ]
  },
  {
   "cell_type": "code",
   "execution_count": 43,
   "id": "7325f10a",
   "metadata": {},
   "outputs": [],
   "source": [
    "clf_RFR = RandomizedSearchCV(RFR,param_distributions=param_grid_rfc,cv=10,scoring='accuracy')"
   ]
  },
  {
   "cell_type": "code",
   "execution_count": 44,
   "id": "7fd9bf9a",
   "metadata": {},
   "outputs": [
    {
     "data": {
      "text/plain": [
       "RandomizedSearchCV(cv=10, estimator=RandomForestRegressor(),\n",
       "                   param_distributions={'max_depth': [5, 10, 15],\n",
       "                                        'min_samples_leaf': [1, 2, 4],\n",
       "                                        'min_samples_split': [2, 5, 10],\n",
       "                                        'n_estimators': [50, 100, 150]},\n",
       "                   scoring='accuracy')"
      ]
     },
     "execution_count": 44,
     "metadata": {},
     "output_type": "execute_result"
    }
   ],
   "source": [
    "import warnings\n",
    "warnings.filterwarnings('ignore')\n",
    "clf_RFR.fit(x_trained_scaled,y_train)"
   ]
  },
  {
   "cell_type": "code",
   "execution_count": 45,
   "id": "11852939",
   "metadata": {},
   "outputs": [
    {
     "data": {
      "text/plain": [
       "array([247.64930622,  25.70462486, 140.31514201, ..., 118.52946191,\n",
       "        63.8929483 ,  71.89468024])"
      ]
     },
     "execution_count": 45,
     "metadata": {},
     "output_type": "execute_result"
    }
   ],
   "source": [
    "y_pred_RFRcv = clf_RFR.predict(x_test_scaled)\n",
    "y_pred_RFRcv"
   ]
  },
  {
   "cell_type": "code",
   "execution_count": 49,
   "id": "78d8d11e",
   "metadata": {},
   "outputs": [
    {
     "name": "stdout",
     "output_type": "stream",
     "text": [
      "MSE_CV_RFR : 4952.488097069169\n",
      "MAE_CV_RFR : 47.12903322260599\n",
      "RMSE_CV_RFR : 70.37391631186351\n",
      "score_cv_rfr :  0.41946172116665537\n"
     ]
    }
   ],
   "source": [
    "# Evaluation - \n",
    "MSE_CV_RFR = mean_squared_error(y_pred_RFRcv,y_test)\n",
    "MAE_CV_RFR = mean_absolute_error(y_pred_RFRcv,y_test)\n",
    "RMSE_CV_RFR = np.sqrt(MSE_CV_RFR)\n",
    "score_cv_rfr = r2_score(y_test,y_pred_RFRcv)\n",
    "print(\"MSE_CV_RFR :\",MSE_CV_RFR)\n",
    "print(\"MAE_CV_RFR :\",MAE_CV_RFR)\n",
    "print(\"RMSE_CV_RFR :\", RMSE_CV_RFR)\n",
    "print(\"score_cv_rfr : \", score_cv_rfr)"
   ]
  },
  {
   "cell_type": "code",
   "execution_count": null,
   "id": "18183f82",
   "metadata": {},
   "outputs": [],
   "source": []
  },
  {
   "cell_type": "code",
   "execution_count": null,
   "id": "f2dbd78d",
   "metadata": {},
   "outputs": [],
   "source": []
  },
  {
   "cell_type": "code",
   "execution_count": null,
   "id": "325fca0e",
   "metadata": {},
   "outputs": [],
   "source": []
  },
  {
   "cell_type": "code",
   "execution_count": null,
   "id": "704c540a",
   "metadata": {},
   "outputs": [],
   "source": []
  }
 ],
 "metadata": {
  "kernelspec": {
   "display_name": "Python 3 (ipykernel)",
   "language": "python",
   "name": "python3"
  },
  "language_info": {
   "codemirror_mode": {
    "name": "ipython",
    "version": 3
   },
   "file_extension": ".py",
   "mimetype": "text/x-python",
   "name": "python",
   "nbconvert_exporter": "python",
   "pygments_lexer": "ipython3",
   "version": "3.9.13"
  }
 },
 "nbformat": 4,
 "nbformat_minor": 5
}
